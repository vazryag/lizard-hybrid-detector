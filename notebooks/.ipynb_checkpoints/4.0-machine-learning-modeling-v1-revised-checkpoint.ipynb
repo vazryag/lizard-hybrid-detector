{
 "cells": [
  {
   "cell_type": "markdown",
   "id": "f595816e",
   "metadata": {},
   "source": [
    "# Machine Learning Modeling Notebook\n",
    "In this notebook I'm comparing different machine learning models commonly used with biological datasets and then picking the best one for bayesian optimization and final inference.\n",
    "\n",
    "**Author**: Arthur G.\n",
    "***"
   ]
  },
  {
   "cell_type": "markdown",
   "id": "85610f1a",
   "metadata": {},
   "source": [
    "## Loading Dependencies\n",
    "Loading and setting up dependencies for this notebook."
   ]
  },
  {
   "cell_type": "code",
   "execution_count": 1,
   "id": "75e96283",
   "metadata": {},
   "outputs": [],
   "source": [
    "# libs\n",
    "import os\n",
    "import pickle\n",
    "import warnings\n",
    "import typing as t\n",
    "from itertools import cycle\n",
    "\n",
    "import numpy as np\n",
    "import pandas as pd\n",
    "import seaborn as sns\n",
    "import matplotlib.pyplot as plt\n",
    "from skopt import BayesSearchCV\n",
    "from sklearn.pipeline import Pipeline\n",
    "from sklearn.svm import LinearSVC, SVC\n",
    "from sklearn.naive_bayes import GaussianNB\n",
    "from sklearn.metrics import auc, roc_curve\n",
    "from sklearn.preprocessing import MinMaxScaler\n",
    "from sklearn.ensemble import AdaBoostClassifier\n",
    "from sklearn.exceptions import ConvergenceWarning\n",
    "from sklearn.model_selection import cross_validate\n",
    "from sklearn.neighbors import KNeighborsClassifier\n",
    "from sklearn.ensemble import RandomForestClassifier\n",
    "from sklearn.model_selection import train_test_split\n",
    "from sklearn.exceptions import DataConversionWarning\n",
    "from statsmodels.stats.contingency_tables import mcnemar\n",
    "from sklearn.base import BaseEstimator, TransformerMixin\n",
    "from sklearn.metrics import make_scorer, precision_score, recall_score, accuracy_score, f1_score, confusion_matrix\n",
    "\n",
    "# settings\n",
    "seed = 42\n",
    "sns.set_style(\"ticks\")\n",
    "plt.rc('font', **{'family': 'Times New Roman', 'weight': 'normal', 'size': 12})\n",
    "sns.set_palette([\"#377eb8\", \"#ff7f00\", \"#4daf4a\", \"#984ea3\", \"#e41a1c\", \"#dede00\"])\n",
    "warnings.filterwarnings('ignore', category=ConvergenceWarning)\n",
    "warnings.filterwarnings(\"ignore\", category=UserWarning, module=\"skopt\")\n",
    "warnings.filterwarnings(\"ignore\", category=DataConversionWarning)\n",
    "warnings.filterwarnings(\"ignore\", category=FutureWarning)"
   ]
  },
  {
   "cell_type": "markdown",
   "id": "23b1d47c",
   "metadata": {},
   "source": [
    "## Helper Functions\n",
    "In this section I'm writing a set of helper functions to automate model optimization."
   ]
  },
  {
   "cell_type": "code",
   "execution_count": 2,
   "id": "bcb2706f",
   "metadata": {},
   "outputs": [],
   "source": [
    "def compare_models(\n",
    "    dataset: np.ndarray,\n",
    "    target: np.ndarray,\n",
    "    models: t.List,\n",
    "    cv: int = 4,\n",
    "    seed: int = 42\n",
    ") -> pd.DataFrame:\n",
    "    model_names = []\n",
    "    avg_accuracies = []\n",
    "    avg_precisions = []\n",
    "    avg_recalls = []\n",
    "    avg_f1_scores = []\n",
    "\n",
    "    for model in models:\n",
    "        model_name = type(model).__name__\n",
    "        model_names.append(model_name)\n",
    "\n",
    "        # Define custom scorers for precision and recall\n",
    "        scoring = {\n",
    "            'accuracy': make_scorer(accuracy_score),\n",
    "            'precision': make_scorer(precision_score, average='macro'),\n",
    "            'recall': make_scorer(recall_score, average='macro'),\n",
    "            'f1': make_scorer(f1_score, average='macro')\n",
    "        }\n",
    "\n",
    "        # Performing cross-validation\n",
    "        cv_results = cross_validate(model, dataset, target, scoring=scoring, cv=cv)\n",
    "\n",
    "        # Calculating average scores\n",
    "        avg_accuracy = cv_results['test_accuracy'].mean()\n",
    "        avg_precision = cv_results['test_precision'].mean()\n",
    "        avg_recall = cv_results['test_recall'].mean()\n",
    "        avg_f1_score = cv_results['test_f1'].mean()\n",
    "\n",
    "        avg_accuracies.append(avg_accuracy)\n",
    "        avg_precisions.append(avg_precision)\n",
    "        avg_recalls.append(avg_recall)\n",
    "        avg_f1_scores.append(avg_f1_score)\n",
    "\n",
    "    # Compiling results into a sorted pandas dataframe\n",
    "    df = pd.DataFrame({\n",
    "        'Model Name': model_names,\n",
    "        'Average Accuracy': avg_accuracies,\n",
    "        'Average Precision': avg_precisions,\n",
    "        'Average Recall': avg_recalls,\n",
    "        'Average F1-Score': avg_f1_scores\n",
    "    })\n",
    "\n",
    "    return df.sort_values(by=['Average Accuracy', 'Average F1-Score', 'Average Precision', 'Average F1-Score'], ascending=False)\n",
    "\n",
    "def run_bayesian_optimization(\n",
    "    data: np.ndarray,\n",
    "    target: np.ndarray,\n",
    "    model: list,\n",
    "    search_grid: dict,\n",
    "    cv: int = 4,\n",
    "    seed: int = 42\n",
    ") -> t.Tuple[float, dict]:\n",
    "    \"\"\"\n",
    "    Implements bayesian optimization using scikit-optimize.\n",
    "    \"\"\"\n",
    "    # initializing optimization class\n",
    "    model = model[0]\n",
    "    opt = BayesSearchCV(model, search_grid, n_jobs=-1, cv=cv)\n",
    "\n",
    "    # fitting optimization and retrieving results\n",
    "    opt.fit(data, target)\n",
    "    best_params = opt.best_params_\n",
    "    best_score = opt.best_score_\n",
    "\n",
    "    return best_score, best_params\n",
    "\n",
    "def evaluate_model_performance(y_true: np.ndarray, y_pred: np.ndarray) -> t.Tuple[float, float]:\n",
    "    \"\"\"\n",
    "    Evaluates both accuracy and f1-score for the given predictions.\n",
    "    \"\"\"\n",
    "    accuracy = accuracy_score(y_true, y_pred)\n",
    "    f1 = f1_score(y_true, y_pred, average=\"macro\")\n",
    "    \n",
    "    return accuracy, f1\n",
    "\n",
    "def plot_auc_comparison(y_true: np.ndarray, y_preds: np.ndarray, y_pred2: np.ndarray) -> None:\n",
    "    \"\"\"Plot two AUC plots for the given predictions.\"\"\"\n",
    "    auc_scores = []\n",
    "    for i in np.unique(y_true):\n",
    "        y_true_binary = (y_true == i).astype(int)\n",
    "        y_preds_binary = (y_preds == i).astype(int)\n",
    "        auc_scores.append(roc_auc_score(y_true_binary, y_preds_binary))\n",
    "\n",
    "    # Compute macro-average AUC\n",
    "    macro_auc = np.mean(auc_scores)\n",
    "\n",
    "    # Compute ROC curves for each class\n",
    "    fpr = dict()\n",
    "    tpr = dict()\n",
    "    for i in np.unique(y_true):\n",
    "        y_true_binary = (y_true == i).astype(int)\n",
    "        y_preds_binary = (y_preds == i).astype(int)\n",
    "        fpr[i], tpr[i], _ = roc_curve(y_true_binary, y_preds_binary)\n",
    "\n",
    "    # Create subplots\n",
    "    fig, axs = plt.subplots(1, 2, figsize=(12, 6), dpi=300)\n",
    "    plt.set_cmap('viridis')\n",
    "\n",
    "    # Plot the first AUC curve\n",
    "    ax1 = axs[0]\n",
    "    colors = cycle([\"#377eb8\", \"#ff7f00\", \"#4daf4a\", \"#984ea3\", \"#e41a1c\", \"#dede00\"])\n",
    "    for i, color in zip(np.unique(y_true), colors):\n",
    "        ax1.plot(fpr[i], tpr[i], color=color, label='Class %d (AUC = %0.2f)' % (i, auc_scores[i]))\n",
    "\n",
    "    # Plot diagonal line representing random guessing\n",
    "    ax1.plot([0, 1], [0, 1], color='gray', linestyle='--')\n",
    "\n",
    "    # Set plot labels and title\n",
    "    ax1.set_xlabel('False Positive Rate')\n",
    "    ax1.set_ylabel('True Positive Rate')\n",
    "    ax1.legend(loc='lower right')\n",
    "\n",
    "    # Plot the second AUC curve\n",
    "    ax2 = axs[1]\n",
    "    auc_scores2 = []\n",
    "    for i in np.unique(y_true):\n",
    "        y_true_binary = (y_true == i).astype(int)\n",
    "        y_preds_binary = (y_pred2 == i).astype(int)\n",
    "        auc_scores2.append(roc_auc_score(y_true_binary, y_preds_binary))\n",
    "\n",
    "    colors2 = cycle([\"#377eb8\", \"#ff7f00\", \"#4daf4a\", \"#984ea3\", \"#e41a1c\", \"#dede00\"])\n",
    "    for i, color in zip(np.unique(y_true), colors2):\n",
    "        ax2.plot(fpr[i], tpr[i], color=color, label='Class %d (AUC = %0.2f)' % (i, auc_scores2[i]))\n",
    "\n",
    "    # Plot diagonal line representing random guessing\n",
    "    ax2.plot([0, 1], [0, 1], color='gray', linestyle='--')\n",
    "\n",
    "    # Set plot labels and title\n",
    "    ax2.set_xlabel('False Positive Rate')\n",
    "    ax2.set_ylabel('True Positive Rate')\n",
    "    ax2.legend(loc='lower right')\n",
    "\n",
    "    plt.tight_layout(pad=2.)\n",
    "    plt.show()\n",
    "\n",
    "def plot_confusion_matrix(\n",
    "    cm: t.Any,\n",
    "    classes: list,\n",
    "    normalize: bool = False,\n",
    "    cmap: str = 'Blues',\n",
    "    figsize: tuple = (7, 5)\n",
    ") -> None:\n",
    "    \"\"\"\n",
    "    This function plots a confusion matrix using seaborn.\n",
    "    \"\"\"\n",
    "    if normalize:\n",
    "        cm = cm.astype('float') / cm.sum(axis=1)[:, np.newaxis]\n",
    "        title = 'Normalized Confusion Matrix'\n",
    "    else:\n",
    "        title = 'Confusion Matrix'\n",
    "\n",
    "    plt.figure(figsize=figsize, dpi=300)\n",
    "    plt.set_cmap('viridis')\n",
    "    sns.heatmap(cm, annot=True, cmap=cmap, fmt='.2f', xticklabels=classes, yticklabels=classes)\n",
    "    plt.title(title)\n",
    "    plt.xlabel('Predicted label')\n",
    "    plt.ylabel('True label')\n",
    "    plt.show()\n",
    "\n",
    "def mcnemar_stats_test(\n",
    "    y_true: np.ndarray,\n",
    "    y_pred1: np.ndarray,\n",
    "    y_pred2: np.ndarray\n",
    ") -> t.Tuple[float, float]:\n",
    "    \"\"\"\n",
    "    This function compares the performance of two models using McNemar's test.\n",
    "    \"\"\"\n",
    "    # creating confusion matrices for each model\n",
    "    cm1 = confusion_matrix(y_true, y_pred1)\n",
    "    cm2 = confusion_matrix(y_true, y_pred2)\n",
    "    \n",
    "    # constructing the 2x2 contingency table\n",
    "    table = [[((y_pred1 == y_true) & (y_pred2 != y_true)).sum(),\n",
    "              ((y_pred1 != y_true) & (y_pred2 == y_true)).sum()],\n",
    "             [((y_pred1 != y_true) & (y_pred2 != y_true)).sum(),\n",
    "              ((y_pred1 == y_true) & (y_pred2 == y_true)).sum()]]\n",
    "    \n",
    "    # perform McNemar's test\n",
    "    result = mcnemar(table, exact=True)\n",
    "    chi2 = result.statistic\n",
    "    p_value = result.pvalue\n",
    "    \n",
    "    return chi2, p_value"
   ]
  },
  {
   "cell_type": "markdown",
   "id": "09f9d935",
   "metadata": {},
   "source": [
    "## Loading Datasets\n",
    "In this section I'm loading both augmented and t-SNE reduced datasets."
   ]
  },
  {
   "cell_type": "code",
   "execution_count": 3,
   "id": "8cfa915d",
   "metadata": {},
   "outputs": [],
   "source": [
    "# loading datasets\n",
    "aug_data = np.load(os.path.join(\"..\", \"data\", \"finalized\", \"augmented_images_features_dataset.npz\"))\n",
    "red_data = np.load(os.path.join(\"..\", \"data\", \"finalized\", \"augmented_image_best_features_dataset.npz\"))\n",
    "\n",
    "# train sets split\n",
    "aug_train = aug_data[\"v1_train_features\"]\n",
    "red_train = red_data[\"v1_train_best_features\"]\n",
    "train_targets = aug_data[\"train_targets\"]\n",
    "\n",
    "# validation sets\n",
    "aug_test = np.vstack((aug_data[\"v1_test_features\"], aug_data[\"v1_valid_features\"]))\n",
    "red_test = np.vstack((red_data[\"v1_test_best_features\"], red_data[\"v1_valid_best_features\"]))\n",
    "test_targets = [i[0] for i in np.vstack((aug_data[\"test_targets\"], aug_data[\"validation_targets\"]))]"
   ]
  },
  {
   "cell_type": "markdown",
   "id": "cb5078f9",
   "metadata": {},
   "source": [
    "## Models Comparison\n",
    "In this section I'm comparing different machine learning models commonly applied to biological datasets in order to chose which one is the best for each dataset."
   ]
  },
  {
   "cell_type": "markdown",
   "id": "4b771170",
   "metadata": {},
   "source": [
    "First I'm defining the models to compare."
   ]
  },
  {
   "cell_type": "code",
   "execution_count": 4,
   "id": "c66c1672",
   "metadata": {},
   "outputs": [],
   "source": [
    "models_to_compare = [\n",
    "    LinearSVC(random_state=seed),\n",
    "    GaussianNB(),\n",
    "    SVC(kernel=\"rbf\", random_state=seed),\n",
    "    SVC(kernel=\"poly\", random_state=seed),\n",
    "    AdaBoostClassifier(random_state=seed),\n",
    "    KNeighborsClassifier(),\n",
    "    RandomForestClassifier(random_state=seed)\n",
    "]"
   ]
  },
  {
   "cell_type": "markdown",
   "id": "d2dd0c6b",
   "metadata": {},
   "source": [
    "Now I'm putting all the columns on the same feature range, from 0 to 1."
   ]
  },
  {
   "cell_type": "code",
   "execution_count": 5,
   "id": "2d6aa73b",
   "metadata": {},
   "outputs": [],
   "source": [
    "aug_scaler = MinMaxScaler(feature_range=(0, 1))\n",
    "red_scaler = MinMaxScaler(feature_range=(0, 1))\n",
    "\n",
    "# fitting and transforming on train datasets\n",
    "rescaled_aug_train = aug_scaler.fit_transform(aug_train)\n",
    "rescaled_red_train = red_scaler.fit_transform(red_train)\n",
    "\n",
    "# transforming on test sets\n",
    "rescaled_aug_test = aug_scaler.transform(aug_test)\n",
    "rescaled_red_test = red_scaler.transform(red_test)"
   ]
  },
  {
   "cell_type": "markdown",
   "id": "2f2dc672",
   "metadata": {},
   "source": [
    "Now I'm running the comparison for the raw features dataset."
   ]
  },
  {
   "cell_type": "code",
   "execution_count": 6,
   "id": "e71f1d20",
   "metadata": {},
   "outputs": [
    {
     "data": {
      "text/html": [
       "<div>\n",
       "<style scoped>\n",
       "    .dataframe tbody tr th:only-of-type {\n",
       "        vertical-align: middle;\n",
       "    }\n",
       "\n",
       "    .dataframe tbody tr th {\n",
       "        vertical-align: top;\n",
       "    }\n",
       "\n",
       "    .dataframe thead th {\n",
       "        text-align: right;\n",
       "    }\n",
       "</style>\n",
       "<table border=\"1\" class=\"dataframe\">\n",
       "  <thead>\n",
       "    <tr style=\"text-align: right;\">\n",
       "      <th></th>\n",
       "      <th>Model Name</th>\n",
       "      <th>Average Accuracy</th>\n",
       "      <th>Average Precision</th>\n",
       "      <th>Average Recall</th>\n",
       "      <th>Average F1-Score</th>\n",
       "    </tr>\n",
       "  </thead>\n",
       "  <tbody>\n",
       "    <tr>\n",
       "      <th>0</th>\n",
       "      <td>LinearSVC</td>\n",
       "      <td>0.953333</td>\n",
       "      <td>0.969161</td>\n",
       "      <td>0.928657</td>\n",
       "      <td>0.942747</td>\n",
       "    </tr>\n",
       "    <tr>\n",
       "      <th>2</th>\n",
       "      <td>SVC</td>\n",
       "      <td>0.943333</td>\n",
       "      <td>0.968618</td>\n",
       "      <td>0.909409</td>\n",
       "      <td>0.928253</td>\n",
       "    </tr>\n",
       "    <tr>\n",
       "      <th>3</th>\n",
       "      <td>SVC</td>\n",
       "      <td>0.930769</td>\n",
       "      <td>0.949840</td>\n",
       "      <td>0.902524</td>\n",
       "      <td>0.918328</td>\n",
       "    </tr>\n",
       "    <tr>\n",
       "      <th>6</th>\n",
       "      <td>RandomForestClassifier</td>\n",
       "      <td>0.919744</td>\n",
       "      <td>0.950217</td>\n",
       "      <td>0.879545</td>\n",
       "      <td>0.896979</td>\n",
       "    </tr>\n",
       "    <tr>\n",
       "      <th>5</th>\n",
       "      <td>KNeighborsClassifier</td>\n",
       "      <td>0.910256</td>\n",
       "      <td>0.918705</td>\n",
       "      <td>0.883522</td>\n",
       "      <td>0.894049</td>\n",
       "    </tr>\n",
       "    <tr>\n",
       "      <th>4</th>\n",
       "      <td>AdaBoostClassifier</td>\n",
       "      <td>0.905385</td>\n",
       "      <td>0.916637</td>\n",
       "      <td>0.881197</td>\n",
       "      <td>0.887531</td>\n",
       "    </tr>\n",
       "    <tr>\n",
       "      <th>1</th>\n",
       "      <td>GaussianNB</td>\n",
       "      <td>0.903590</td>\n",
       "      <td>0.912983</td>\n",
       "      <td>0.877441</td>\n",
       "      <td>0.887827</td>\n",
       "    </tr>\n",
       "  </tbody>\n",
       "</table>\n",
       "</div>"
      ],
      "text/plain": [
       "               Model Name  Average Accuracy  Average Precision  \\\n",
       "0               LinearSVC          0.953333           0.969161   \n",
       "2                     SVC          0.943333           0.968618   \n",
       "3                     SVC          0.930769           0.949840   \n",
       "6  RandomForestClassifier          0.919744           0.950217   \n",
       "5    KNeighborsClassifier          0.910256           0.918705   \n",
       "4      AdaBoostClassifier          0.905385           0.916637   \n",
       "1              GaussianNB          0.903590           0.912983   \n",
       "\n",
       "   Average Recall  Average F1-Score  \n",
       "0        0.928657          0.942747  \n",
       "2        0.909409          0.928253  \n",
       "3        0.902524          0.918328  \n",
       "6        0.879545          0.896979  \n",
       "5        0.883522          0.894049  \n",
       "4        0.881197          0.887531  \n",
       "1        0.877441          0.887827  "
      ]
     },
     "execution_count": 6,
     "metadata": {},
     "output_type": "execute_result"
    }
   ],
   "source": [
    "raw_features_comparison_df = compare_models(\n",
    "    dataset = rescaled_aug_train,\n",
    "    target = train_targets,\n",
    "    models = models_to_compare\n",
    ")\n",
    "\n",
    "raw_features_comparison_df.head(7)"
   ]
  },
  {
   "cell_type": "markdown",
   "id": "a9b54e0d",
   "metadata": {},
   "source": [
    "And finally running the comparison for the reduced dataset."
   ]
  },
  {
   "cell_type": "code",
   "execution_count": 7,
   "id": "3b80a2e3",
   "metadata": {},
   "outputs": [
    {
     "data": {
      "text/html": [
       "<div>\n",
       "<style scoped>\n",
       "    .dataframe tbody tr th:only-of-type {\n",
       "        vertical-align: middle;\n",
       "    }\n",
       "\n",
       "    .dataframe tbody tr th {\n",
       "        vertical-align: top;\n",
       "    }\n",
       "\n",
       "    .dataframe thead th {\n",
       "        text-align: right;\n",
       "    }\n",
       "</style>\n",
       "<table border=\"1\" class=\"dataframe\">\n",
       "  <thead>\n",
       "    <tr style=\"text-align: right;\">\n",
       "      <th></th>\n",
       "      <th>Model Name</th>\n",
       "      <th>Average Accuracy</th>\n",
       "      <th>Average Precision</th>\n",
       "      <th>Average Recall</th>\n",
       "      <th>Average F1-Score</th>\n",
       "    </tr>\n",
       "  </thead>\n",
       "  <tbody>\n",
       "    <tr>\n",
       "      <th>6</th>\n",
       "      <td>RandomForestClassifier</td>\n",
       "      <td>0.935897</td>\n",
       "      <td>0.934450</td>\n",
       "      <td>0.923096</td>\n",
       "      <td>0.925687</td>\n",
       "    </tr>\n",
       "    <tr>\n",
       "      <th>0</th>\n",
       "      <td>LinearSVC</td>\n",
       "      <td>0.921282</td>\n",
       "      <td>0.926265</td>\n",
       "      <td>0.887595</td>\n",
       "      <td>0.900192</td>\n",
       "    </tr>\n",
       "    <tr>\n",
       "      <th>2</th>\n",
       "      <td>SVC</td>\n",
       "      <td>0.921026</td>\n",
       "      <td>0.917336</td>\n",
       "      <td>0.886756</td>\n",
       "      <td>0.897060</td>\n",
       "    </tr>\n",
       "    <tr>\n",
       "      <th>3</th>\n",
       "      <td>SVC</td>\n",
       "      <td>0.907179</td>\n",
       "      <td>0.889398</td>\n",
       "      <td>0.876668</td>\n",
       "      <td>0.876788</td>\n",
       "    </tr>\n",
       "    <tr>\n",
       "      <th>1</th>\n",
       "      <td>GaussianNB</td>\n",
       "      <td>0.903590</td>\n",
       "      <td>0.891331</td>\n",
       "      <td>0.869244</td>\n",
       "      <td>0.876338</td>\n",
       "    </tr>\n",
       "    <tr>\n",
       "      <th>5</th>\n",
       "      <td>KNeighborsClassifier</td>\n",
       "      <td>0.897692</td>\n",
       "      <td>0.884323</td>\n",
       "      <td>0.859465</td>\n",
       "      <td>0.867846</td>\n",
       "    </tr>\n",
       "    <tr>\n",
       "      <th>4</th>\n",
       "      <td>AdaBoostClassifier</td>\n",
       "      <td>0.894615</td>\n",
       "      <td>0.890929</td>\n",
       "      <td>0.869789</td>\n",
       "      <td>0.871385</td>\n",
       "    </tr>\n",
       "  </tbody>\n",
       "</table>\n",
       "</div>"
      ],
      "text/plain": [
       "               Model Name  Average Accuracy  Average Precision  \\\n",
       "6  RandomForestClassifier          0.935897           0.934450   \n",
       "0               LinearSVC          0.921282           0.926265   \n",
       "2                     SVC          0.921026           0.917336   \n",
       "3                     SVC          0.907179           0.889398   \n",
       "1              GaussianNB          0.903590           0.891331   \n",
       "5    KNeighborsClassifier          0.897692           0.884323   \n",
       "4      AdaBoostClassifier          0.894615           0.890929   \n",
       "\n",
       "   Average Recall  Average F1-Score  \n",
       "6        0.923096          0.925687  \n",
       "0        0.887595          0.900192  \n",
       "2        0.886756          0.897060  \n",
       "3        0.876668          0.876788  \n",
       "1        0.869244          0.876338  \n",
       "5        0.859465          0.867846  \n",
       "4        0.869789          0.871385  "
      ]
     },
     "execution_count": 7,
     "metadata": {},
     "output_type": "execute_result"
    }
   ],
   "source": [
    "reduced_features_comparison_df = compare_models(\n",
    "    dataset = rescaled_red_train,\n",
    "    target = train_targets,\n",
    "    models = models_to_compare\n",
    ")\n",
    "\n",
    "reduced_features_comparison_df.head(7)"
   ]
  },
  {
   "cell_type": "markdown",
   "id": "aca0d275",
   "metadata": {},
   "source": [
    "Now we can see that the LinearSVC model was the best algorithm for both datasets."
   ]
  },
  {
   "cell_type": "markdown",
   "id": "64dc59cc",
   "metadata": {},
   "source": [
    "## Bayesian Optimization Run\n",
    "In this section I'm running the bayesian optimization process on the choosen models and datasets."
   ]
  },
  {
   "cell_type": "markdown",
   "id": "c3f5f45e",
   "metadata": {},
   "source": [
    "### Raw Features Dataset Optimization\n",
    "In this subsection I'm running the optimization for the raw features dataset."
   ]
  },
  {
   "cell_type": "code",
   "execution_count": 8,
   "id": "21dd1dfd",
   "metadata": {},
   "outputs": [
    {
     "name": "stdout",
     "output_type": "stream",
     "text": [
      "Optimization Accuracy: 0.9766666666666667\n",
      "Optimization Params: {'C': 9.998023826580418, 'dual': False, 'penalty': 'l2', 'random_state': 42}\n"
     ]
    }
   ],
   "source": [
    "linear_svc_params = {\n",
    "    'C': (0.1, 10),\n",
    "    'penalty': ['l1', 'l2'],\n",
    "    'dual': [False]\n",
    "}\n",
    "\n",
    "best_linear_svc_score, best_linear_svc_params = run_bayesian_optimization(\n",
    "    data = rescaled_aug_train,\n",
    "    target = train_targets,\n",
    "    model = [LinearSVC(random_state=seed)],\n",
    "    search_grid = linear_svc_params\n",
    ")\n",
    "\n",
    "# converting from ordered dict to dict\n",
    "best_linear_svc_params = dict(best_linear_svc_params)\n",
    "best_linear_svc_params[\"random_state\"] = 42\n",
    "\n",
    "print(f\"Optimization Accuracy: {best_linear_svc_score}\")\n",
    "print(f\"Optimization Params: {best_linear_svc_params}\")"
   ]
  },
  {
   "cell_type": "markdown",
   "id": "c63c12df",
   "metadata": {},
   "source": [
    "Training the final model on optimized hyperparams."
   ]
  },
  {
   "cell_type": "code",
   "execution_count": 9,
   "id": "cc57b60f",
   "metadata": {},
   "outputs": [
    {
     "name": "stdout",
     "output_type": "stream",
     "text": [
      "Final LinearSVC Validation Performance: Accuracy = 0.9893854748603352 | F1-Score = 0.9880246728847449\n"
     ]
    }
   ],
   "source": [
    "# fitting final model\n",
    "linear_svc_model = LinearSVC(**best_linear_svc_params)\n",
    "linear_svc_model.set_params(random_state=seed)\n",
    "linear_svc_model.fit(rescaled_aug_train, train_targets)\n",
    "\n",
    "# validating final model\n",
    "linear_svc_preds = linear_svc_model.predict(rescaled_aug_test)\n",
    "linear_svc_acc, linear_svc_f1 = evaluate_model_performance(test_targets, linear_svc_preds)\n",
    "\n",
    "print(f\"Final LinearSVC Validation Performance: Accuracy = {linear_svc_acc} | F1-Score = {linear_svc_f1}\")"
   ]
  },
  {
   "cell_type": "markdown",
   "id": "a00c6ecf",
   "metadata": {},
   "source": [
    "### Selected Features Dataset Optimization\n",
    "In this subsection I'm running the optimization for the reduced features dataset."
   ]
  },
  {
   "cell_type": "code",
   "execution_count": 10,
   "id": "ceb01ab9",
   "metadata": {},
   "outputs": [
    {
     "name": "stdout",
     "output_type": "stream",
     "text": [
      "Optimization Accuracy: 0.971025641025641\n",
      "Optimization Params: {'C': 0.10041615989368592, 'dual': False, 'penalty': 'l2', 'random_state': 42}\n"
     ]
    }
   ],
   "source": [
    "best_linear_svc_score2, best_linear_svc_params2 = run_bayesian_optimization(\n",
    "    data = rescaled_red_train,\n",
    "    target = train_targets,\n",
    "    model = [LinearSVC(random_state=seed)],\n",
    "    search_grid = linear_svc_params\n",
    ")\n",
    "\n",
    "# converting from ordered dict to dict\n",
    "best_linear_svc_params2 = dict(best_linear_svc_params2)\n",
    "best_linear_svc_params2[\"random_state\"] = 42\n",
    "\n",
    "print(f\"Optimization Accuracy: {best_linear_svc_score2}\")\n",
    "print(f\"Optimization Params: {best_linear_svc_params2}\")"
   ]
  },
  {
   "cell_type": "markdown",
   "id": "3254d723",
   "metadata": {},
   "source": [
    "Training the final model on optimized hyperparams."
   ]
  },
  {
   "cell_type": "code",
   "execution_count": 11,
   "id": "f85934cb",
   "metadata": {},
   "outputs": [
    {
     "name": "stdout",
     "output_type": "stream",
     "text": [
      "Final LinearSVC 2 Validation Performance: Accuracy = 0.9553072625698324 | F1-Score = 0.9483375418045208\n"
     ]
    }
   ],
   "source": [
    "# fitting final model\n",
    "linear_svc_model2 = LinearSVC(**best_linear_svc_params2)\n",
    "linear_svc_model2.set_params(random_state=seed)\n",
    "linear_svc_model2.fit(rescaled_red_train, train_targets)\n",
    "\n",
    "# validating final model\n",
    "linear_svc_preds2 = linear_svc_model2.predict(rescaled_red_test)\n",
    "linear_svc_acc2, linear_svc_f12 = evaluate_model_performance(test_targets, linear_svc_preds2)\n",
    "\n",
    "print(f\"Final LinearSVC 2 Validation Performance: Accuracy = {linear_svc_acc2} | F1-Score = {linear_svc_f12}\")"
   ]
  },
  {
   "cell_type": "markdown",
   "id": "4eb28f07",
   "metadata": {},
   "source": [
    "## Compiling Results\n",
    "In this section I'm compiling the results of the two modelings using some plots and metrics."
   ]
  },
  {
   "cell_type": "markdown",
   "id": "16b05973",
   "metadata": {},
   "source": [
    "### Models AUC Plots\n",
    "In this subsection I'm calculating and plotting the AUC plots comparatively."
   ]
  },
  {
   "cell_type": "code",
   "execution_count": 12,
   "id": "11665143",
   "metadata": {},
   "outputs": [
    {
     "data": {
      "image/png": "[encoded data removed]",
      "text/plain": [
       "<Figure size 1200x600 with 2 Axes>"
      ]
     },
     "metadata": {},
     "output_type": "display_data"
    }
   ],
   "source": [
    "plot_auc_comparison(\n",
    "    y_true = test_targets,\n",
    "    y_preds = linear_svc_preds,\n",
    "    y_pred2= linear_svc_preds2\n",
    ")"
   ]
  },
  {
   "cell_type": "markdown",
   "id": "51d4654e",
   "metadata": {},
   "source": [
    "### Confusion Matrices Plot\n",
    "In this subsection I'm generating the confusion matrix plot for the two models."
   ]
  },
  {
   "cell_type": "markdown",
   "id": "7a6a7614",
   "metadata": {},
   "source": [
    "Generating confusion matrix for the model trained on raw features."
   ]
  },
  {
   "cell_type": "code",
   "execution_count": 13,
   "id": "2cf46008",
   "metadata": {},
   "outputs": [
    {
     "data": {
      "image/png": "[encoded data removed]",
      "text/plain": [
       "<Figure size 700x500 with 2 Axes>"
      ]
     },
     "metadata": {},
     "output_type": "display_data"
    }
   ],
   "source": [
    "raw_features_model_cm = confusion_matrix(y_true=test_targets, y_pred=linear_svc_preds)\n",
    "\n",
    "plot_confusion_matrix(\n",
    "    cm = raw_features_model_cm,\n",
    "    classes = [0, 1, 2],\n",
    "    normalize = True,\n",
    "    figsize = (7, 5)\n",
    ")"
   ]
  },
  {
   "cell_type": "markdown",
   "id": "0d2b1163",
   "metadata": {},
   "source": [
    "Generating the confusion matrix for the model trained on reduced features."
   ]
  },
  {
   "cell_type": "code",
   "execution_count": 14,
   "id": "4f162e92",
   "metadata": {},
   "outputs": [
    {
     "data": {
      "image/png": "[encoded data removed]",
      "text/plain": [
       "<Figure size 700x500 with 2 Axes>"
      ]
     },
     "metadata": {},
     "output_type": "display_data"
    }
   ],
   "source": [
    "reduced_features_model_cm = confusion_matrix(y_true=test_targets, y_pred=linear_svc_preds2)\n",
    "\n",
    "plot_confusion_matrix(\n",
    "    cm = reduced_features_model_cm,\n",
    "    classes = [0, 1, 2],\n",
    "    normalize = True,\n",
    "    figsize = (7, 5)\n",
    ")"
   ]
  },
  {
   "cell_type": "markdown",
   "id": "457a1fce",
   "metadata": {},
   "source": [
    "### McNemar's Statistical Test\n",
    "McNemar's test is a statistical test used to compare the performance of two models or classifiers on paired nominal data. It assesses whether there is a significant difference in the prediction accuracy of the two models. The test is based on a 2x2 contingency table that counts the number of discordant and concordant pairs between the models' predictions and the true labels. \n",
    "\n",
    "McNemar's test calculates a chi-square statistic and corresponding p-value to determine if there is evidence of a significant difference in performance between the models. A small p-value suggests a significant difference, while a large p-value indicates no significant difference."
   ]
  },
  {
   "cell_type": "code",
   "execution_count": 15,
   "id": "5b42fc7b",
   "metadata": {},
   "outputs": [
    {
     "name": "stdout",
     "output_type": "stream",
     "text": [
      "McNemar's test:\n",
      "Chi-square statistic: 9.0\n",
      "p-value: 1.0\n"
     ]
    }
   ],
   "source": [
    "chi2, p_value = mcnemar_stats_test(\n",
    "    y_true = test_targets,\n",
    "    y_pred1 = linear_svc_preds,\n",
    "    y_pred2 = linear_svc_preds2\n",
    ")\n",
    "\n",
    "print(\"McNemar's test:\")\n",
    "print(\"Chi-square statistic:\", chi2)\n",
    "print(\"p-value:\", p_value)"
   ]
  },
  {
   "cell_type": "markdown",
   "id": "a7fa32b2",
   "metadata": {},
   "source": [
    "Taking into account the result of the McNemar's Statistical test I did above, it suggests that there is not enough statistical evidence to reject the null hypothesis which says that the two models have the same performance, once the p-value is far above the confidence interval of 0.05. So we can safely take the less complex one to be our final model."
   ]
  },
  {
   "cell_type": "markdown",
   "id": "6f728429",
   "metadata": {},
   "source": [
    "## Building Inference Pipeline\n",
    "In this last section I'm building the final inference pipeline."
   ]
  },
  {
   "cell_type": "code",
   "execution_count": 16,
   "id": "66488e12",
   "metadata": {},
   "outputs": [
    {
     "data": {
      "text/html": [
       "<style>#sk-container-id-1 {color: black;background-color: white;}#sk-container-id-1 pre{padding: 0;}#sk-container-id-1 div.sk-toggleable {background-color: white;}#sk-container-id-1 label.sk-toggleable__label {cursor: pointer;display: block;width: 100%;margin-bottom: 0;padding: 0.3em;box-sizing: border-box;text-align: center;}#sk-container-id-1 label.sk-toggleable__label-arrow:before {content: \"▸\";float: left;margin-right: 0.25em;color: #696969;}#sk-container-id-1 label.sk-toggleable__label-arrow:hover:before {color: black;}#sk-container-id-1 div.sk-estimator:hover label.sk-toggleable__label-arrow:before {color: black;}#sk-container-id-1 div.sk-toggleable__content {max-height: 0;max-width: 0;overflow: hidden;text-align: left;background-color: #f0f8ff;}#sk-container-id-1 div.sk-toggleable__content pre {margin: 0.2em;color: black;border-radius: 0.25em;background-color: #f0f8ff;}#sk-container-id-1 input.sk-toggleable__control:checked~div.sk-toggleable__content {max-height: 200px;max-width: 100%;overflow: auto;}#sk-container-id-1 input.sk-toggleable__control:checked~label.sk-toggleable__label-arrow:before {content: \"▾\";}#sk-container-id-1 div.sk-estimator input.sk-toggleable__control:checked~label.sk-toggleable__label {background-color: #d4ebff;}#sk-container-id-1 div.sk-label input.sk-toggleable__control:checked~label.sk-toggleable__label {background-color: #d4ebff;}#sk-container-id-1 input.sk-hidden--visually {border: 0;clip: rect(1px 1px 1px 1px);clip: rect(1px, 1px, 1px, 1px);height: 1px;margin: -1px;overflow: hidden;padding: 0;position: absolute;width: 1px;}#sk-container-id-1 div.sk-estimator {font-family: monospace;background-color: #f0f8ff;border: 1px dotted black;border-radius: 0.25em;box-sizing: border-box;margin-bottom: 0.5em;}#sk-container-id-1 div.sk-estimator:hover {background-color: #d4ebff;}#sk-container-id-1 div.sk-parallel-item::after {content: \"\";width: 100%;border-bottom: 1px solid gray;flex-grow: 1;}#sk-container-id-1 div.sk-label:hover label.sk-toggleable__label {background-color: #d4ebff;}#sk-container-id-1 div.sk-serial::before {content: \"\";position: absolute;border-left: 1px solid gray;box-sizing: border-box;top: 0;bottom: 0;left: 50%;z-index: 0;}#sk-container-id-1 div.sk-serial {display: flex;flex-direction: column;align-items: center;background-color: white;padding-right: 0.2em;padding-left: 0.2em;position: relative;}#sk-container-id-1 div.sk-item {position: relative;z-index: 1;}#sk-container-id-1 div.sk-parallel {display: flex;align-items: stretch;justify-content: center;background-color: white;position: relative;}#sk-container-id-1 div.sk-item::before, #sk-container-id-1 div.sk-parallel-item::before {content: \"\";position: absolute;border-left: 1px solid gray;box-sizing: border-box;top: 0;bottom: 0;left: 50%;z-index: -1;}#sk-container-id-1 div.sk-parallel-item {display: flex;flex-direction: column;z-index: 1;position: relative;background-color: white;}#sk-container-id-1 div.sk-parallel-item:first-child::after {align-self: flex-end;width: 50%;}#sk-container-id-1 div.sk-parallel-item:last-child::after {align-self: flex-start;width: 50%;}#sk-container-id-1 div.sk-parallel-item:only-child::after {width: 0;}#sk-container-id-1 div.sk-dashed-wrapped {border: 1px dashed gray;margin: 0 0.4em 0.5em 0.4em;box-sizing: border-box;padding-bottom: 0.4em;background-color: white;}#sk-container-id-1 div.sk-label label {font-family: monospace;font-weight: bold;display: inline-block;line-height: 1.2em;}#sk-container-id-1 div.sk-label-container {text-align: center;}#sk-container-id-1 div.sk-container {/* jupyter's `normalize.less` sets `[hidden] { display: none; }` but bootstrap.min.css set `[hidden] { display: none !important; }` so we also need the `!important` here to be able to override the default hidden behavior on the sphinx rendered scikit-learn.org. See: https://github.com/scikit-learn/scikit-learn/issues/21755 */display: inline-block !important;position: relative;}#sk-container-id-1 div.sk-text-repr-fallback {display: none;}</style><div id=\"sk-container-id-1\" class=\"sk-top-container\"><div class=\"sk-text-repr-fallback\"><pre>Pipeline(steps=[(&#x27;minmax_rescaler&#x27;, MinMaxScaler()),\n",
       "                (&#x27;linear_svm_classifier&#x27;,\n",
       "                 LinearSVC(C=0.10041615989368592, dual=False,\n",
       "                           random_state=42))])</pre><b>In a Jupyter environment, please rerun this cell to show the HTML representation or trust the notebook. <br />On GitHub, the HTML representation is unable to render, please try loading this page with nbviewer.org.</b></div><div class=\"sk-container\" hidden><div class=\"sk-item sk-dashed-wrapped\"><div class=\"sk-label-container\"><div class=\"sk-label sk-toggleable\"><input class=\"sk-toggleable__control sk-hidden--visually\" id=\"sk-estimator-id-1\" type=\"checkbox\" ><label for=\"sk-estimator-id-1\" class=\"sk-toggleable__label sk-toggleable__label-arrow\">Pipeline</label><div class=\"sk-toggleable__content\"><pre>Pipeline(steps=[(&#x27;minmax_rescaler&#x27;, MinMaxScaler()),\n",
       "                (&#x27;linear_svm_classifier&#x27;,\n",
       "                 LinearSVC(C=0.10041615989368592, dual=False,\n",
       "                           random_state=42))])</pre></div></div></div><div class=\"sk-serial\"><div class=\"sk-item\"><div class=\"sk-estimator sk-toggleable\"><input class=\"sk-toggleable__control sk-hidden--visually\" id=\"sk-estimator-id-2\" type=\"checkbox\" ><label for=\"sk-estimator-id-2\" class=\"sk-toggleable__label sk-toggleable__label-arrow\">MinMaxScaler</label><div class=\"sk-toggleable__content\"><pre>MinMaxScaler()</pre></div></div></div><div class=\"sk-item\"><div class=\"sk-estimator sk-toggleable\"><input class=\"sk-toggleable__control sk-hidden--visually\" id=\"sk-estimator-id-3\" type=\"checkbox\" ><label for=\"sk-estimator-id-3\" class=\"sk-toggleable__label sk-toggleable__label-arrow\">LinearSVC</label><div class=\"sk-toggleable__content\"><pre>LinearSVC(C=0.10041615989368592, dual=False, random_state=42)</pre></div></div></div></div></div></div></div>"
      ],
      "text/plain": [
       "Pipeline(steps=[('minmax_rescaler', MinMaxScaler()),\n",
       "                ('linear_svm_classifier',\n",
       "                 LinearSVC(C=0.10041615989368592, dual=False,\n",
       "                           random_state=42))])"
      ]
     },
     "execution_count": 16,
     "metadata": {},
     "output_type": "execute_result"
    }
   ],
   "source": [
    "# pipeline built and fit\n",
    "inf_pipeline = Pipeline(\n",
    "    [\n",
    "        (\"minmax_rescaler\", MinMaxScaler(feature_range=(0, 1))),\n",
    "        (\"linear_svm_classifier\", LinearSVC(**best_linear_svc_params2))\n",
    "    ]\n",
    ")\n",
    "\n",
    "inf_pipeline.fit(red_train, train_targets)"
   ]
  },
  {
   "cell_type": "markdown",
   "id": "44fe4aa0",
   "metadata": {},
   "source": [
    "Scoring trained pipeline."
   ]
  },
  {
   "cell_type": "code",
   "execution_count": 17,
   "id": "4d89ebf1",
   "metadata": {},
   "outputs": [
    {
     "name": "stdout",
     "output_type": "stream",
     "text": [
      "Trained Pipeline: Accuracy: 0.9553072625698324 | F1-Score: 0.9483375418045208\n"
     ]
    }
   ],
   "source": [
    "test_pipeline_preds = inf_pipeline.predict(red_test)\n",
    "pipeline_test_acc, pipeline_test_f1 = evaluate_model_performance(test_targets, test_pipeline_preds)\n",
    "\n",
    "print(f\"Trained Pipeline: Accuracy: {pipeline_test_acc} | F1-Score: {pipeline_test_f1}\")"
   ]
  },
  {
   "cell_type": "markdown",
   "id": "1c1a62cd",
   "metadata": {},
   "source": [
    "Serializing the trained pipeline."
   ]
  },
  {
   "cell_type": "code",
   "execution_count": 18,
   "id": "776a6895",
   "metadata": {},
   "outputs": [],
   "source": [
    "with open(os.path.join(\"..\", \"models\", \"inf_pipeline.pkl\"), \"wb\") as file:\n",
    "    pickle.dump(inf_pipeline, file)"
   ]
  },
  {
   "cell_type": "code",
   "execution_count": null,
   "id": "e3b4f318",
   "metadata": {},
   "outputs": [],
   "source": []
  }
 ],
 "metadata": {
  "kernelspec": {
   "display_name": "Python 3 (ipykernel)",
   "language": "python",
   "name": "python3"
  },
  "language_info": {
   "codemirror_mode": {
    "name": "ipython",
    "version": 3
   },
   "file_extension": ".py",
   "mimetype": "text/x-python",
   "name": "python",
   "nbconvert_exporter": "python",
   "pygments_lexer": "ipython3",
   "version": "3.10.12"
  }
 },
 "nbformat": 4,
 "nbformat_minor": 5
}
